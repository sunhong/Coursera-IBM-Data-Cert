{
 "cells": [
  {
   "cell_type": "markdown",
   "id": "c440ac48-095a-419f-9657-c648cb36c39c",
   "metadata": {
    "tags": []
   },
   "source": [
    "<h1>Data Science Tools and Ecosystem</h1>"
   ]
  },
  {
   "cell_type": "markdown",
   "id": "c1cde7b7-c8dd-475c-bbc3-8c2d284657b2",
   "metadata": {},
   "source": [
    "In this notebook, Data Science Tools and Ecosystem are summarized."
   ]
  },
  {
   "cell_type": "markdown",
   "id": "38d9886e-4591-4bc3-8b5a-3d2af0c42dbb",
   "metadata": {},
   "source": [
    "<b>Objectives:</b>\n",
    "<ol>\n",
    "    <li>List popular languages for Data Science</li>\n",
    "    <li>List useful libraries for Data Science</li>\n",
    "    <li>List useful tools for Data Science</li>\n",
    "</ol>"
   ]
  },
  {
   "cell_type": "markdown",
   "id": "77c6b2f3-92a5-4da1-9712-5846776d5e38",
   "metadata": {},
   "source": [
    "Some of the popular languages that Data Scientists use are:\n",
    "<ol>\n",
    "    <li>Python</li>\n",
    "    <li>R</li>\n",
    "    <li>SQL</li>\n",
    "</ol>"
   ]
  },
  {
   "cell_type": "markdown",
   "id": "b9cdbbd8-e1ab-4cf5-a86a-d99ab459dd59",
   "metadata": {
    "tags": []
   },
   "source": [
    "Some of the commonly used libraries used by Data Scientists include:\n",
    "<ol>\n",
    "    <li>Numpy</li>\n",
    "    <li>Scipy</li>\n",
    "    <li>Matplotlib</li>\n",
    "    <li>Scikit-learn</li>\n",
    "</ol>"
   ]
  },
  {
   "cell_type": "markdown",
   "id": "8b07d3a7-1097-46a1-9c17-696555ada1e8",
   "metadata": {},
   "source": [
    "<table>\n",
    "    <tr>\n",
    "        <th>Data Science Tools</th>\n",
    "    </tr>\n",
    "    <tr><td>RStudio</td></tr>\n",
    "    <tr><td>Jupyter Notebook</td></tr>\n",
    "    <tr><td>Git</td></tr>\n",
    "</table>"
   ]
  },
  {
   "cell_type": "markdown",
   "id": "46d9500c-94a3-48a5-8d22-f2061913f9bb",
   "metadata": {},
   "source": [
    "<h3>Below are a few examples of evaluating arithmetic expressions in Python</h3>"
   ]
  },
  {
   "cell_type": "code",
   "execution_count": 1,
   "id": "cfc383dc-d77e-4874-ae4d-2138688d6c7f",
   "metadata": {
    "tags": []
   },
   "outputs": [
    {
     "data": {
      "text/plain": [
       "17"
      ]
     },
     "execution_count": 1,
     "metadata": {},
     "output_type": "execute_result"
    }
   ],
   "source": [
    "# This a simple arithmetic expression to mutiply then add integers\n",
    "(3*4)+5"
   ]
  },
  {
   "cell_type": "code",
   "execution_count": 2,
   "id": "8598a966-ddcf-40ac-a3dd-81b1578d61dd",
   "metadata": {
    "tags": []
   },
   "outputs": [
    {
     "data": {
      "text/plain": [
       "3.3333333333333335"
      ]
     },
     "execution_count": 2,
     "metadata": {},
     "output_type": "execute_result"
    }
   ],
   "source": [
    "# This will convert 200 minutes to hours by diving by 60\n",
    "200/60"
   ]
  },
  {
   "cell_type": "markdown",
   "id": "78965752-100b-4981-b954-37fd90de6aaf",
   "metadata": {},
   "source": [
    "<h2>Author</h2>\n",
    "Hong Sun"
   ]
  },
  {
   "cell_type": "code",
   "execution_count": null,
   "id": "62285098-464e-4c83-a34b-eda6da79cc74",
   "metadata": {},
   "outputs": [],
   "source": []
  }
 ],
 "metadata": {
  "kernelspec": {
   "display_name": "Python",
   "language": "python",
   "name": "conda-env-python-py"
  },
  "language_info": {
   "codemirror_mode": {
    "name": "ipython",
    "version": 3
   },
   "file_extension": ".py",
   "mimetype": "text/x-python",
   "name": "python",
   "nbconvert_exporter": "python",
   "pygments_lexer": "ipython3",
   "version": "3.7.12"
  }
 },
 "nbformat": 4,
 "nbformat_minor": 5
}
